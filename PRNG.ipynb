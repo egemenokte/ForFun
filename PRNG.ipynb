{
  "nbformat": 4,
  "nbformat_minor": 0,
  "metadata": {
    "colab": {
      "name": "PRNG.ipynb",
      "provenance": [],
      "collapsed_sections": [],
      "authorship_tag": "ABX9TyMEaMkfrjKkE1CHM2qNHHuz",
      "include_colab_link": true
    },
    "kernelspec": {
      "name": "python3",
      "display_name": "Python 3"
    },
    "language_info": {
      "name": "python"
    }
  },
  "cells": [
    {
      "cell_type": "markdown",
      "metadata": {
        "id": "view-in-github",
        "colab_type": "text"
      },
      "source": [
        "<a href=\"https://colab.research.google.com/github/egemenokte/ForFun/blob/main/PRNG.ipynb\" target=\"_parent\"><img src=\"https://colab.research.google.com/assets/colab-badge.svg\" alt=\"Open In Colab\"/></a>"
      ]
    },
    {
      "cell_type": "markdown",
      "source": [
        "# Middle-Square Algorithm"
      ],
      "metadata": {
        "id": "fUFG-d320_Uj"
      }
    },
    {
      "cell_type": "code",
      "execution_count": 11,
      "metadata": {
        "id": "JV1E1qL00-uq"
      },
      "outputs": [],
      "source": [
        "import matplotlib.pyplot as plt\n",
        "import numpy as np\n",
        "import seaborn as sns\n",
        "sns.set(rc = {'figure.figsize':(10,10)},font_scale = 2)\n",
        "\n",
        "class middlesquare(): #1949 talk, Von Neumann\n",
        "\n",
        "    ## Generate one random seed given the previous seed\n",
        "    def generate(self,seed):\n",
        "        l=self.l #determine the length of the seed\n",
        "        strt_idx = ((2*l) // 2) - (l // 2) #start index of the seed\n",
        "        end_idx = ((2*l) // 2) + (l // 2)+1 #end index of the seed for odd numbers\n",
        "        if l%2 == 0: #if even, subtract 1 from end index\n",
        "            end_idx-=1\n",
        "        seed = int(str(seed * seed).zfill(2*l)[strt_idx:end_idx]) #take the square and take the middle l digits\n",
        "        return seed\n",
        "    \n",
        "    ## generate N*N random numbers\n",
        "    def generateN(self,seed,N):\n",
        "        self.seed0=seed; self.l=len(str(seed)) #save the length and seed to self\n",
        "        nums=[] #create empty list of numbers\n",
        "        repeat=0 #have any number repeated?\n",
        "        for i in range(N*N): #generate N*N numbers\n",
        "            seed=self.generate(seed) #generate a new seed\n",
        "            self.seed=seed #update the seed value\n",
        "            newnum=seed/(10**self.l-1) #random number between 0-1 is seed/highest l-1 digit number\n",
        "            if newnum in nums and repeat==0: #if a number repeats\n",
        "                print('Repeat at ',i) #record the repeat\n",
        "                repeat=i\n",
        "            nums.append(newnum) #append number to the sequence of numbers\n",
        "        nums=np.reshape(nums,[N,N]) #reshape as a square for easier plot\n",
        "        return nums,repeat"
      ]
    },
    {
      "cell_type": "markdown",
      "source": [
        "Let's generate numbers"
      ],
      "metadata": {
        "id": "r28p6cZc1RRP"
      }
    },
    {
      "cell_type": "code",
      "source": [
        "##Generate Numbers\n",
        "seed=39943095 #initial seed (interesting seeds = 281981,631157,27428742,993166,399430952)\n",
        "N=100 #N^2 numbers will be generated\n",
        "## Create middle square object\n",
        "rng=middlesquare()\n",
        "nums,repeat=rng.generateN(seed,N)\n",
        "## Plot the random numbers in a heatmap\n",
        "plt.figure()\n",
        "sns.heatmap(np.round(nums),square=True,cbar=False,xticklabels=False, yticklabels=False)\n",
        "plt.title('Middle-Square, seed= '+str(seed) +'. Repeats after '+str(repeat))\n",
        "plt.xlabel('First '+str(N*N)+' numbers in the sequence.')"
      ],
      "metadata": {
        "id": "EEkBL6J61T1T"
      },
      "execution_count": null,
      "outputs": []
    },
    {
      "cell_type": "markdown",
      "source": [
        "# Linear Congruential Generator"
      ],
      "metadata": {
        "id": "wT7E32uQ6CXG"
      }
    },
    {
      "cell_type": "code",
      "source": [
        "class lincongen(): #1958 by W. E. Thomson and A. Rotenberg\n",
        "\n",
        "    #generates the next seed given the previous\n",
        "    def generate(self,seed):\n",
        "        seed=(self.a*seed+self.b)%self.m # (a*seed+b)%m\n",
        "        return seed    \n",
        "\n",
        "    #generate N*N numbers in a sequence\n",
        "    def generateN(self,seed,N):\n",
        "        self.a=25214903917; self.b=11; self.m=2**48 #define a,b and m\n",
        "        self.seed0=seed; self.l=len(str(seed)) #save the seed and length to self\n",
        "        nums=[] #create empty list of numbers\n",
        "        repeat=0 #have any number repeated?\n",
        "        for i in range(N*N):  #generate N*N numbers\n",
        "            seed=self.generate(seed) #generate a new seed\n",
        "            self.seed=seed #update the seed value\n",
        "            newnum=seed/(self.m) #random number between 0-1 is seed/m\n",
        "            if newnum in nums and repeat==0: #if a number repeats\n",
        "                print('Repeat at ',i) #record the repeat\n",
        "                repeat=i\n",
        "            nums.append(newnum) #append number to the sequence of numbers\n",
        "        nums=np.reshape(nums,[N,N]) #reshape as a square for easier plot\n",
        "        return nums,repeat "
      ],
      "metadata": {
        "id": "xAGEID3p6Db9"
      },
      "execution_count": 20,
      "outputs": []
    },
    {
      "cell_type": "markdown",
      "source": [
        "Let's generate numbers"
      ],
      "metadata": {
        "id": "ET-BzKrY65hF"
      }
    },
    {
      "cell_type": "code",
      "source": [
        "seed=39943095 #initial seed (interesting seeds = 281981,631157,27428742,993166,399430952)\n",
        "N=100 #N^2 numbers will be generated\n",
        "## Create lin.cong. gen. object\n",
        "rng2=lincongen()\n",
        "nums,repeat=rng2.generateN(seed,N)\n",
        "## Plot the random numbers in a heatmap\n",
        "plt.figure()\n",
        "sns.heatmap(np.round(nums),square=True,cbar=False,xticklabels=False, yticklabels=False)\n",
        "plt.title('Lin. Cong. Gen. , seed= '+str(seed) +'. Repeats after '+str(repeat))\n",
        "plt.xlabel('First '+str(N*N)+' numbers in the sequence.')"
      ],
      "metadata": {
        "id": "tdLJ_C-O67M4"
      },
      "execution_count": null,
      "outputs": []
    },
    {
      "cell_type": "markdown",
      "source": [
        "# Inverse Sampling"
      ],
      "metadata": {
        "id": "8kO6GyM89rqy"
      }
    },
    {
      "cell_type": "code",
      "source": [
        "## Generate samples from a normal distribution (mean zero, std one) given uniform samples\n",
        "from scipy.stats import norm\n",
        "normalsamples=norm.ppf(nums.flatten()); #get the number from the inverse CDF of the normal dist\n",
        "## Plot the CDF and the histogram\n",
        "#plt.figure()\n",
        "#plt.hist(nums.flatten(),15,density=True,edgecolor = \"black\")\n",
        "#plt.title('PDF of U(0,1)')\n",
        "plt.figure()\n",
        "y=np.arange(0.0001,1,0.0001);\n",
        "plt.plot(norm.ppf(y),y)\n",
        "plt.title('CDF of N(0,1)')\n",
        "plt.hist(normalsamples,30,density=True,edgecolor = \"black\");"
      ],
      "metadata": {
        "colab": {
          "base_uri": "https://localhost:8080/",
          "height": 629
        },
        "id": "G-QR2MHH9uf2",
        "outputId": "82d1865b-54c8-4e77-bb56-c6ed89c3dbbe"
      },
      "execution_count": 29,
      "outputs": [
        {
          "output_type": "display_data",
          "data": {
            "text/plain": [
              "<Figure size 720x720 with 1 Axes>"
            ],
            "image/png": "[encoded data removed]"
          },
          "metadata": {}
        }
      ]
    }
  ]
}